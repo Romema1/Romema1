{
  "cells": [
    {
      "cell_type": "markdown",
      "metadata": {
        "id": "view-in-github",
        "colab_type": "text"
      },
      "source": [
        "<a href=\"https://colab.research.google.com/github/Romema1/Romema1/blob/main/Answer%20Assignment%203%20ISE%20571_PartII_(1).ipynb\" target=\"_parent\"><img src=\"https://colab.research.google.com/assets/colab-badge.svg\" alt=\"Open In Colab\"/></a>"
      ]
    },
    {
      "cell_type": "code",
      "source": [
        "# Answer Assignment 3 part II problem 1"
      ],
      "metadata": {
        "id": "_zRoexz70RD5"
      },
      "execution_count": null,
      "outputs": []
    },
    {
      "cell_type": "code",
      "execution_count": null,
      "metadata": {
        "colab": {
          "base_uri": "https://localhost:8080/"
        },
        "id": "NwVfpYFlLvFw",
        "outputId": "cff8c9f6-7373-4dad-ac12-3a4dd2b1dc5d"
      },
      "outputs": [
        {
          "name": "stdout",
          "output_type": "stream",
          "text": [
            "Requirement already satisfied: pyswarms in /usr/local/lib/python3.11/dist-packages (1.3.0)\n",
            "Requirement already satisfied: scipy in /usr/local/lib/python3.11/dist-packages (from pyswarms) (1.14.1)\n",
            "Requirement already satisfied: numpy in /usr/local/lib/python3.11/dist-packages (from pyswarms) (2.0.2)\n",
            "Requirement already satisfied: matplotlib>=1.3.1 in /usr/local/lib/python3.11/dist-packages (from pyswarms) (3.10.0)\n",
            "Requirement already satisfied: attrs in /usr/local/lib/python3.11/dist-packages (from pyswarms) (25.3.0)\n",
            "Requirement already satisfied: tqdm in /usr/local/lib/python3.11/dist-packages (from pyswarms) (4.67.1)\n",
            "Requirement already satisfied: future in /usr/local/lib/python3.11/dist-packages (from pyswarms) (1.0.0)\n",
            "Requirement already satisfied: pyyaml in /usr/local/lib/python3.11/dist-packages (from pyswarms) (6.0.2)\n",
            "Requirement already satisfied: contourpy>=1.0.1 in /usr/local/lib/python3.11/dist-packages (from matplotlib>=1.3.1->pyswarms) (1.3.1)\n",
            "Requirement already satisfied: cycler>=0.10 in /usr/local/lib/python3.11/dist-packages (from matplotlib>=1.3.1->pyswarms) (0.12.1)\n",
            "Requirement already satisfied: fonttools>=4.22.0 in /usr/local/lib/python3.11/dist-packages (from matplotlib>=1.3.1->pyswarms) (4.56.0)\n",
            "Requirement already satisfied: kiwisolver>=1.3.1 in /usr/local/lib/python3.11/dist-packages (from matplotlib>=1.3.1->pyswarms) (1.4.8)\n",
            "Requirement already satisfied: packaging>=20.0 in /usr/local/lib/python3.11/dist-packages (from matplotlib>=1.3.1->pyswarms) (24.2)\n",
            "Requirement already satisfied: pillow>=8 in /usr/local/lib/python3.11/dist-packages (from matplotlib>=1.3.1->pyswarms) (11.1.0)\n",
            "Requirement already satisfied: pyparsing>=2.3.1 in /usr/local/lib/python3.11/dist-packages (from matplotlib>=1.3.1->pyswarms) (3.2.3)\n",
            "Requirement already satisfied: python-dateutil>=2.7 in /usr/local/lib/python3.11/dist-packages (from matplotlib>=1.3.1->pyswarms) (2.8.2)\n",
            "Requirement already satisfied: six>=1.5 in /usr/local/lib/python3.11/dist-packages (from python-dateutil>=2.7->matplotlib>=1.3.1->pyswarms) (1.17.0)\n"
          ]
        }
      ],
      "source": [
        "!pip install pyswarms"
      ]
    },
    {
      "cell_type": "code",
      "execution_count": null,
      "metadata": {
        "colab": {
          "base_uri": "https://localhost:8080/"
        },
        "id": "ccHmPRCmPgfw",
        "outputId": "a6fc8a9b-338a-442d-b99d-63d538c46cb6"
      },
      "outputs": [
        {
          "name": "stderr",
          "output_type": "stream",
          "text": [
            "2025-04-01 03:50:45,506 - pyswarms.single.global_best - INFO - Optimize for 1000 iters with {'w': 0.9, 'c1': 0.5, 'c2': 0.3}\n",
            "pyswarms.single.global_best: 100%|██████████|1000/1000, best_cost=726\n",
            "2025-04-01 03:50:47,515 - pyswarms.single.global_best - INFO - Optimization finished | best cost: 725.5008447068847, best pos: [1.23419156 0.53717537 0.91994747 1.12904433 0.80400712 3.05492025\n",
            " 0.79923044 1.48200482 0.02369437 0.42188184 1.24217783 2.12811876\n",
            " 2.42503475 1.91759365 0.66641939]\n"
          ]
        },
        {
          "name": "stdout",
          "output_type": "stream",
          "text": [
            "##############################\n",
            "Optimal Workforce Schedule (Decision Variables):\n",
            "[1.234 0.537 0.92  1.129 0.804 3.055 0.799 1.482 0.024 0.422 1.242 2.128\n",
            " 2.425 1.918 0.666]\n",
            "\n",
            "Minimum Total Labor Cost (with penalties if any):\n",
            "725.5\n",
            "\n",
            "Interpretation:\n",
            "Full-time peak hours (first 5 entries): [1.234 0.537 0.92  1.129 0.804]\n",
            "Full-time overtime hours (next 5 entries): [3.055 0.799 1.482 0.024 0.422]\n",
            "Part-time non-peak hours (last 5 entries): [1.242 2.128 2.425 1.918 0.666]\n",
            "\n",
            "Staffing sums:\n",
            "Total full-time (peak + overtime): 10.406\n",
            "Total part-time: 8.379\n"
          ]
        }
      ],
      "source": [
        "import numpy as np\n",
        "import pyswarms as ps\n",
        "\n",
        "# ----- Problem Data -----\n",
        "\n",
        "# Full-time staff rates (m = 5)\n",
        "full_time_rates = np.array([30, 35, 40, 45, 50])\n",
        "# Overtime rates (1.5x)\n",
        "overtime_rates = 1.5 * full_time_rates  # [45, 52.5, 60, 67.5, 75]\n",
        "\n",
        "# Part-time staff rates (n = 5)\n",
        "part_time_rates = np.array([25, 27, 29, 31, 33])\n",
        "\n",
        "# Number of staff groups\n",
        "m = len(full_time_rates)\n",
        "n = len(part_time_rates)\n",
        "\n",
        "# Total dimension of decision vector:\n",
        "# 5 full-time + 5 overtime + 5 part-time = 15\n",
        "dim = m + m + n\n",
        "\n",
        "# Staffing constraints:\n",
        "min_full_time = 4   # At least 4 full-time staff during peak hours (count as sum of hours; here we assume hours are in some unit)\n",
        "min_part_time = 2   # At least 2 part-time staff during non-peak hours\n",
        "\n",
        "# To incorporate constraints in a continuous optimization via PSO, we use a penalty method.\n",
        "# We assume that if the total scheduled \"hours\" are less than required, we add a penalty.\n",
        "# (In a real scheduling problem, you might have integer decisions or binary selection; here we assume hours as continuous variables.)\n",
        "\n",
        "# ----- Fitness Function Definition -----\n",
        "def fitness_function(x):\n",
        "    \"\"\"\n",
        "    x is a 2D array with shape (n_particles, dim)\n",
        "    x has 15 components:\n",
        "      - x[0:5] are full-time peak hours,\n",
        "      - x[5:10] are full-time overtime hours,\n",
        "      - x[10:15] are part-time non-peak hours.\n",
        "    We compute total cost and add penalties if constraints are violated.\n",
        "    \"\"\"\n",
        "    # Compute cost for each particle\n",
        "    # Cost for full-time peak hours\n",
        "    cost_full_time = np.dot(x[:, 0:m], full_time_rates)\n",
        "    # Cost for overtime\n",
        "    cost_overtime = np.dot(x[:, m:2*m], overtime_rates)\n",
        "    # Cost for part-time\n",
        "    cost_part_time = np.dot(x[:, 2*m:2*m+n], part_time_rates)\n",
        "\n",
        "    total_cost = cost_full_time + cost_overtime + cost_part_time\n",
        "\n",
        "    # Constraint penalties:\n",
        "    # Constraint 1: Sum of full-time (peak + overtime) >= 4\n",
        "    sum_full = np.sum(x[:, 0:m] + x[:, m:2*m], axis=1)\n",
        "    # Constraint 2: Sum of part-time hours >= 2\n",
        "    sum_part = np.sum(x[:, 2*m:2*m+n], axis=1)\n",
        "\n",
        "    # Penalty factors (set large to discourage infeasible solutions)\n",
        "    penalty_factor = 1e6\n",
        "\n",
        "    penalty = np.zeros(x.shape[0])\n",
        "    # If sum_full < min_full_time, add penalty proportional to the deficit squared.\n",
        "    penalty += penalty_factor * np.maximum(0, (min_full_time - sum_full))**2\n",
        "    # If sum_part < min_part_time, add penalty.\n",
        "    penalty += penalty_factor * np.maximum(0, (min_part_time - sum_part))**2\n",
        "\n",
        "    # Total fitness: we want to minimize cost, so fitness value is total_cost + penalty.\n",
        "    # PSO in PySwarms minimizes the fitness function.\n",
        "    fitness = total_cost + penalty\n",
        "    return fitness\n",
        "\n",
        "# ----- PSO Setup -----\n",
        "\n",
        "# Define bounds for each decision variable.\n",
        "# We need non-negative hours. Assume an upper bound for hours, say 10 hours per period (adjust as needed).\n",
        "lb = np.zeros(dim)\n",
        "ub = 10 * np.ones(dim)\n",
        "bounds = (lb, ub)\n",
        "\n",
        "# PSO parameters\n",
        "options = {'w': 0.9, 'c1': 0.5, 'c2': 0.3}\n",
        "swarm_size = 50\n",
        "iterations = 1000\n",
        "\n",
        "# ----- Run PSO using PySwarms -----\n",
        "\n",
        "optimizer = ps.single.GlobalBestPSO(n_particles=swarm_size, dimensions=dim, options=options, bounds=bounds)\n",
        "best_cost, best_pos = optimizer.optimize(fitness_function, iters=iterations, verbose=True)\n",
        "\n",
        "# ----- Display the Results -----\n",
        "print(\"#\"*30)\n",
        "print(\"Optimal Workforce Schedule (Decision Variables):\")\n",
        "print(np.round(best_pos, 3))\n",
        "print(\"\\nMinimum Total Labor Cost (with penalties if any):\")\n",
        "print(np.round(best_cost, 2))\n",
        "\n",
        "# Interpret the result:\n",
        "print(\"\\nInterpretation:\")\n",
        "print(\"Full-time peak hours (first 5 entries):\", np.round(best_pos[0:m], 3))\n",
        "print(\"Full-time overtime hours (next 5 entries):\", np.round(best_pos[m:2*m], 3))\n",
        "print(\"Part-time non-peak hours (last 5 entries):\", np.round(best_pos[2*m:2*m+n], 3))\n",
        "print(\"\\nStaffing sums:\")\n",
        "print(\"Total full-time (peak + overtime):\", np.round(np.sum(best_pos[0:m] + best_pos[m:2*m]), 3))\n",
        "print(\"Total part-time:\", np.round(np.sum(best_pos[2*m:2*m+n]), 3))\n"
      ]
    },
    {
      "cell_type": "code",
      "execution_count": null,
      "metadata": {
        "id": "TKhMxh3EdNY6"
      },
      "outputs": [],
      "source": [
        "# THE OPTIMAL SOLUTION FOR Q1"
      ]
    },
    {
      "cell_type": "code",
      "execution_count": null,
      "metadata": {
        "colab": {
          "base_uri": "https://localhost:8080/"
        },
        "id": "7euhV2SIdR4R",
        "outputId": "7e9f6371-73a4-4591-a7b7-a02e068ba35b"
      },
      "outputs": [
        {
          "name": "stdout",
          "output_type": "stream",
          "text": [
            "Status: Optimal\n",
            "Optimal Workforce Schedule:\n",
            "\n",
            "Full-time staff (peak hours):\n",
            "  Staff 1: 4.0 hours\n",
            "  Staff 2: 0.0 hours\n",
            "  Staff 3: 0.0 hours\n",
            "  Staff 4: 0.0 hours\n",
            "  Staff 5: 0.0 hours\n",
            "\n",
            "Full-time staff (overtime hours):\n",
            "  Staff 1: 0.0 hours\n",
            "  Staff 2: 0.0 hours\n",
            "  Staff 3: 0.0 hours\n",
            "  Staff 4: 0.0 hours\n",
            "  Staff 5: 0.0 hours\n",
            "\n",
            "Part-time staff (non-peak hours):\n",
            "  Staff 1: 2.0 hours\n",
            "  Staff 2: 0.0 hours\n",
            "  Staff 3: 0.0 hours\n",
            "  Staff 4: 0.0 hours\n",
            "  Staff 5: 0.0 hours\n",
            "\n",
            "Minimum Total Labor Cost: 170.0\n"
          ]
        }
      ],
      "source": [
        "import pulp as pl\n",
        "\n",
        "# ----------------------------\n",
        "# Problem Data and Parameters\n",
        "# ----------------------------\n",
        "# Full-time staff rates (for m = 5 full-time staff)\n",
        "full_time_rates = [30, 35, 40, 45, 50]\n",
        "\n",
        "# Overtime rates are 1.5× the full-time rates:\n",
        "overtime_rates = [1.5 * rate for rate in full_time_rates]  # [45, 52.5, 60, 67.5, 75]\n",
        "\n",
        "# Part-time staff rates (for n = 5 part-time staff)\n",
        "part_time_rates = [25, 27, 29, 31, 33]\n",
        "\n",
        "# Number of staff members\n",
        "m = 5  # full-time staff\n",
        "n = 5  # part-time staff\n",
        "\n",
        "# Staffing constraints:\n",
        "min_full_time = 4   # Total full-time (peak + overtime) hours must be at least 4\n",
        "min_part_time = 2   # Total part-time hours must be at least 2\n",
        "\n",
        "# ----------------------------\n",
        "# MILP Model Formulation\n",
        "# ----------------------------\n",
        "# Create an LP minimization problem\n",
        "prob = pl.LpProblem(\"Workforce_Scheduling\", pl.LpMinimize)\n",
        "\n",
        "# Decision Variables:\n",
        "# x_i: number of peak hours for full-time staff i, i = 1,...,m\n",
        "x = {i: pl.LpVariable(f\"x_{i}\", lowBound=0, cat=\"Continuous\") for i in range(1, m+1)}\n",
        "\n",
        "# x_io: number of overtime hours for full-time staff i, i = 1,...,m\n",
        "x_io = {i: pl.LpVariable(f\"x_io_{i}\", lowBound=0, cat=\"Continuous\") for i in range(1, m+1)}\n",
        "\n",
        "# x_jp: number of hours for part-time staff j (non-peak), j = 1,...,n\n",
        "x_jp = {j: pl.LpVariable(f\"x_jp_{j}\", lowBound=0, cat=\"Continuous\") for j in range(1, n+1)}\n",
        "\n",
        "# Objective Function:\n",
        "# Minimize total labor cost:\n",
        "#   total_cost = sum_{i=1}^{m} (c_i * x_i) + sum_{i=1}^{m} (c_io * x_io) + sum_{j=1}^{n} (c_jp * x_jp)\n",
        "total_cost = (pl.lpSum([full_time_rates[i-1] * x[i] for i in range(1, m+1)]) +\n",
        "              pl.lpSum([overtime_rates[i-1] * x_io[i] for i in range(1, m+1)]) +\n",
        "              pl.lpSum([part_time_rates[j-1] * x_jp[j] for j in range(1, n+1)]))\n",
        "\n",
        "prob += total_cost, \"Total_Labor_Cost\"\n",
        "\n",
        "# Constraints:\n",
        "# Peak-hour staffing requirement:\n",
        "#   sum_{i=1}^{m} (x_i + x_io) >= 4\n",
        "prob += pl.lpSum([x[i] + x_io[i] for i in range(1, m+1)]) >= min_full_time, \"Peak_Staffing_Requirement\"\n",
        "\n",
        "# Non-peak-hour staffing requirement:\n",
        "#   sum_{j=1}^{n} x_jp >= 2\n",
        "prob += pl.lpSum([x_jp[j] for j in range(1, n+1)]) >= min_part_time, \"NonPeak_Staffing_Requirement\"\n",
        "\n",
        "# ----------------------------\n",
        "# Solve the MILP model using PuLP's default solver (CBC)\n",
        "# ----------------------------\n",
        "prob.solve()\n",
        "\n",
        "# ----------------------------\n",
        "# Display the Optimal Solution\n",
        "# ----------------------------\n",
        "print(\"Status:\", pl.LpStatus[prob.status])\n",
        "print(\"Optimal Workforce Schedule:\")\n",
        "\n",
        "print(\"\\nFull-time staff (peak hours):\")\n",
        "for i in range(1, m+1):\n",
        "    print(f\"  Staff {i}: {x[i].varValue} hours\")\n",
        "\n",
        "print(\"\\nFull-time staff (overtime hours):\")\n",
        "for i in range(1, m+1):\n",
        "    print(f\"  Staff {i}: {x_io[i].varValue} hours\")\n",
        "\n",
        "print(\"\\nPart-time staff (non-peak hours):\")\n",
        "for j in range(1, n+1):\n",
        "    print(f\"  Staff {j}: {x_jp[j].varValue} hours\")\n",
        "\n",
        "print(\"\\nMinimum Total Labor Cost:\", pl.value(prob.objective))\n"
      ]
    }
  ],
  "metadata": {
    "colab": {
      "provenance": [],
      "authorship_tag": "ABX9TyNIcSF3w9jtNYb0noWDbl8I",
      "include_colab_link": true
    },
    "kernelspec": {
      "display_name": "Python 3",
      "name": "python3"
    },
    "language_info": {
      "name": "python"
    }
  },
  "nbformat": 4,
  "nbformat_minor": 0
}